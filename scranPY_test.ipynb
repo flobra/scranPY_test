{
 "cells": [
  {
   "cell_type": "code",
   "execution_count": 1,
   "id": "44a44360",
   "metadata": {},
   "outputs": [],
   "source": [
    "import argparse\n",
    "import scanpy as sc\n",
    "import numpy as np\n",
    "import anndata\n",
    "\n",
    "import time\n",
    "import os\n",
    "\n",
    "from sklearn.cluster import KMeans\n",
    "\n",
    "import numpy as np\n",
    "import matplotlib.pyplot as plt\n",
    "from scipy.stats import pearsonr\n",
    "from scipy.sparse import csr_matrix, issparse\n",
    "\n",
    "import matplotlib.pyplot as plt\n",
    "import pandas as pd\n",
    "import numpy as np\n",
    "import seaborn as sns\n",
    "from scipy.stats import chi2\n",
    "from matplotlib.patches import Ellipse\n",
    "\n",
    "import matplotlib.pyplot as plt\n",
    "import pandas as pd\n",
    "from scipy.spatial import distance"
   ]
  },
  {
   "cell_type": "code",
   "execution_count": 2,
   "id": "2a1d2975",
   "metadata": {},
   "outputs": [
    {
     "data": {
      "application/vnd.jupyter.widget-view+json": {
       "model_id": "1f97d5b2335342aa8c8cbfd63d0bc851",
       "version_major": 2,
       "version_minor": 0
      },
      "text/plain": [
       "  0%|          | 0.00/5.58M [00:00<?, ?B/s]"
      ]
     },
     "metadata": {},
     "output_type": "display_data"
    }
   ],
   "source": [
    "adata = sc.datasets.pbmc3k()"
   ]
  },
  {
   "cell_type": "code",
   "execution_count": 3,
   "id": "91ce7e4a",
   "metadata": {},
   "outputs": [
    {
     "data": {
      "text/plain": [
       "AnnData object with n_obs × n_vars = 2700 × 32738\n",
       "    var: 'gene_ids'"
      ]
     },
     "execution_count": 3,
     "metadata": {},
     "output_type": "execute_result"
    }
   ],
   "source": [
    "adata"
   ]
  },
  {
   "cell_type": "code",
   "execution_count": 4,
   "id": "c99347ff",
   "metadata": {},
   "outputs": [
    {
     "name": "stdout",
     "output_type": "stream",
     "text": [
      "Normalizing...\n",
      "PCA...\n",
      "Neighbors...\n"
     ]
    },
    {
     "name": "stderr",
     "output_type": "stream",
     "text": [
      "/home/flo/mambaforge/envs/scnb-pipeline-R4.2/lib/python3.11/site-packages/umap/distances.py:1063: NumbaDeprecationWarning: \u001b[1mThe 'nopython' keyword argument was not supplied to the 'numba.jit' decorator. The implicit default value for this argument is currently False, but it will be changed to True in Numba 0.59.0. See https://numba.readthedocs.io/en/stable/reference/deprecation.html#deprecation-of-object-mode-fall-back-behaviour-when-using-jit for details.\u001b[0m\n",
      "  @numba.jit()\n",
      "/home/flo/mambaforge/envs/scnb-pipeline-R4.2/lib/python3.11/site-packages/umap/distances.py:1071: NumbaDeprecationWarning: \u001b[1mThe 'nopython' keyword argument was not supplied to the 'numba.jit' decorator. The implicit default value for this argument is currently False, but it will be changed to True in Numba 0.59.0. See https://numba.readthedocs.io/en/stable/reference/deprecation.html#deprecation-of-object-mode-fall-back-behaviour-when-using-jit for details.\u001b[0m\n",
      "  @numba.jit()\n",
      "/home/flo/mambaforge/envs/scnb-pipeline-R4.2/lib/python3.11/site-packages/umap/distances.py:1086: NumbaDeprecationWarning: \u001b[1mThe 'nopython' keyword argument was not supplied to the 'numba.jit' decorator. The implicit default value for this argument is currently False, but it will be changed to True in Numba 0.59.0. See https://numba.readthedocs.io/en/stable/reference/deprecation.html#deprecation-of-object-mode-fall-back-behaviour-when-using-jit for details.\u001b[0m\n",
      "  @numba.jit()\n",
      "/home/flo/mambaforge/envs/scnb-pipeline-R4.2/lib/python3.11/site-packages/umap/umap_.py:660: NumbaDeprecationWarning: \u001b[1mThe 'nopython' keyword argument was not supplied to the 'numba.jit' decorator. The implicit default value for this argument is currently False, but it will be changed to True in Numba 0.59.0. See https://numba.readthedocs.io/en/stable/reference/deprecation.html#deprecation-of-object-mode-fall-back-behaviour-when-using-jit for details.\u001b[0m\n",
      "  @numba.jit()\n"
     ]
    },
    {
     "name": "stdout",
     "output_type": "stream",
     "text": [
      "Clustering...\n"
     ]
    }
   ],
   "source": [
    "#Perform a clustering for scran normalization in clusters\n",
    "adata_pp = adata.copy()\n",
    "print('Normalizing...')\n",
    "sc.pp.normalize_per_cell(adata_pp, counts_per_cell_after=1e5)\n",
    "sc.pp.log1p(adata_pp)\n",
    "print('PCA...')\n",
    "sc.pp.pca(adata_pp, n_comps=15)\n",
    "print('Neighbors...')\n",
    "sc.pp.neighbors(adata_pp)\n",
    "print('Clustering...')\n",
    "sc.tl.leiden(adata_pp, key_added='groups', resolution=0.8)"
   ]
  },
  {
   "cell_type": "code",
   "execution_count": 5,
   "id": "f2c89736",
   "metadata": {},
   "outputs": [],
   "source": [
    "def merge_small_clusters(adata_pp, min_cluster_size):\n",
    "    \n",
    "    while not (all(clust_size >= min_cluster_size for clust_size in adata_pp.obs.groups.value_counts() if clust_size != 0)):\n",
    "    \n",
    "        c_counts = adata_pp.obs.groups.value_counts()\n",
    "        cluster_list = list(c_counts.keys())\n",
    "\n",
    "        merge_dict = {}\n",
    "\n",
    "        for c in cluster_list:\n",
    "\n",
    "            if c_counts[c] < min_cluster_size:\n",
    "\n",
    "                #find closets cluster\n",
    "                avg_distances = {}\n",
    "                k_clusts = [l for l in cluster_list if l!=c]\n",
    "                for k in k_clusts:\n",
    "                    c_cells = adata_pp[adata_pp.obs['groups']==c,:].obsm['X_pca']\n",
    "                    k_cells = adata_pp[adata_pp.obs['groups']==k,:].obsm['X_pca']\n",
    "                    dist_mat = distance.cdist(c_cells, k_cells, metric='cosine')\n",
    "                    mean_val = np.mean(dist_mat[np.triu_indices(n=len(c_cells), m=len(k_cells) , k = 1)])\n",
    "                    avg_distances[k] = mean_val\n",
    "\n",
    "                min_k = min(avg_distances, key=avg_distances.get)\n",
    "                merge_dict[c]=min_k\n",
    "\n",
    "        for c in list(merge_dict.keys()):\n",
    "            adata_pp.obs.loc[adata_pp.obs['groups']==c,'groups'] = merge_dict[c]\n",
    "        \n",
    "    # reset categories\n",
    "    adata_pp.obs['groups'] = adata_pp.obs['groups'].astype('str').astype('category')\n",
    "    \n",
    "    return adata_pp"
   ]
  },
  {
   "cell_type": "code",
   "execution_count": 6,
   "id": "56794e77",
   "metadata": {},
   "outputs": [
    {
     "data": {
      "text/plain": [
       "AnnData object with n_obs × n_vars = 2700 × 32738\n",
       "    obs: 'n_counts', 'groups'\n",
       "    var: 'gene_ids'\n",
       "    uns: 'log1p', 'pca', 'neighbors', 'leiden'\n",
       "    obsm: 'X_pca'\n",
       "    varm: 'PCs'\n",
       "    obsp: 'distances', 'connectivities'"
      ]
     },
     "execution_count": 6,
     "metadata": {},
     "output_type": "execute_result"
    }
   ],
   "source": [
    "merge_small_clusters(adata_pp, 100)"
   ]
  },
  {
   "cell_type": "code",
   "execution_count": 7,
   "id": "26ad15a5",
   "metadata": {},
   "outputs": [
    {
     "data": {
      "text/plain": [
       "norm_groups\n",
       "0    501\n",
       "1    484\n",
       "2    372\n",
       "3    334\n",
       "4    301\n",
       "6    236\n",
       "5    196\n",
       "7    154\n",
       "8    122\n",
       "Name: count, dtype: int64"
      ]
     },
     "execution_count": 7,
     "metadata": {},
     "output_type": "execute_result"
    }
   ],
   "source": [
    "#Preprocess variables for scran normalization\n",
    "input_groups = adata_pp.obs['groups']\n",
    "adata.obs['norm_groups'] = input_groups\n",
    "adata.obs['norm_groups'].value_counts()"
   ]
  },
  {
   "cell_type": "code",
   "execution_count": 8,
   "id": "c5034177",
   "metadata": {},
   "outputs": [
    {
     "data": {
      "text/plain": [
       "AnnData object with n_obs × n_vars = 2700 × 32738\n",
       "    obs: 'norm_groups'\n",
       "    var: 'gene_ids'"
      ]
     },
     "execution_count": 8,
     "metadata": {},
     "output_type": "execute_result"
    }
   ],
   "source": [
    "adata"
   ]
  },
  {
   "cell_type": "code",
   "execution_count": 9,
   "id": "d6bc37b3",
   "metadata": {},
   "outputs": [
    {
     "name": "stdout",
     "output_type": "stream",
     "text": [
      "Current smallest cluster =  122  cells.\n",
      "Using max_size =  3000 , clusters have been split into  9  clusters.\n"
     ]
    },
    {
     "ename": "ValueError",
     "evalue": "operands could not be broadcast together with shapes (32738,2700) (2700,1) ",
     "output_type": "error",
     "traceback": [
      "\u001b[0;31m---------------------------------------------------------------------------\u001b[0m",
      "\u001b[0;31mValueError\u001b[0m                                Traceback (most recent call last)",
      "Cell \u001b[0;32mIn[9], line 2\u001b[0m\n\u001b[1;32m      1\u001b[0m \u001b[38;5;28;01mimport\u001b[39;00m \u001b[38;5;21;01mscranPY\u001b[39;00m\n\u001b[0;32m----> 2\u001b[0m \u001b[43mscranPY\u001b[49m\u001b[38;5;241;43m.\u001b[39;49m\u001b[43mcompute_sum_factors\u001b[49m\u001b[43m(\u001b[49m\u001b[43madata\u001b[49m\u001b[43m,\u001b[49m\u001b[43m \u001b[49m\u001b[43mclusters\u001b[49m\u001b[38;5;241;43m=\u001b[39;49m\u001b[38;5;124;43m'\u001b[39;49m\u001b[38;5;124;43mnorm_groups\u001b[39;49m\u001b[38;5;124;43m'\u001b[39;49m\u001b[43m,\u001b[49m\u001b[43m \u001b[49m\u001b[43mnormalize_counts\u001b[49m\u001b[38;5;241;43m=\u001b[39;49m\u001b[38;5;28;43;01mTrue\u001b[39;49;00m\u001b[43m)\u001b[49m\n",
      "File \u001b[0;32m~/mambaforge/envs/scnb-pipeline-R4.2/lib/python3.11/site-packages/scranPY/main.py:250\u001b[0m, in \u001b[0;36mcompute_sum_factors\u001b[0;34m(adata, sizes, clusters, min_mean, max_size, parallelize, algorithm, stopwatch, plotting, lower_bound, normalize_counts, log1p, layer, save_plots_dir)\u001b[0m\n\u001b[1;32m    248\u001b[0m lib_sizes \u001b[38;5;241m=\u001b[39m np\u001b[38;5;241m.\u001b[39msum(adata\u001b[38;5;241m.\u001b[39mX, axis\u001b[38;5;241m=\u001b[39m\u001b[38;5;241m1\u001b[39m) \u001b[38;5;66;03m##3\u001b[39;00m\n\u001b[1;32m    249\u001b[0m lib_sizes \u001b[38;5;241m=\u001b[39m lib_sizes \u001b[38;5;241m/\u001b[39m np\u001b[38;5;241m.\u001b[39mmean(lib_sizes) \n\u001b[0;32m--> 250\u001b[0m exprs \u001b[38;5;241m=\u001b[39m (\u001b[43madata\u001b[49m\u001b[38;5;241;43m.\u001b[39;49m\u001b[43mX\u001b[49m\u001b[38;5;241;43m.\u001b[39;49m\u001b[43mT\u001b[49m\u001b[43m \u001b[49m\u001b[38;5;241;43m/\u001b[39;49m\u001b[43m \u001b[49m\u001b[43mlib_sizes\u001b[49m)\u001b[38;5;241m.\u001b[39mT \u001b[38;5;66;03m##4\u001b[39;00m\n\u001b[1;32m    251\u001b[0m min_mean \u001b[38;5;241m=\u001b[39m guess_min_mean(adata\u001b[38;5;241m.\u001b[39mX, min_mean\u001b[38;5;241m=\u001b[39mmin_mean) \u001b[38;5;66;03m##5\u001b[39;00m\n\u001b[1;32m    252\u001b[0m \u001b[38;5;28mprint\u001b[39m(\u001b[38;5;124m'\u001b[39m\u001b[38;5;124mmin_mean = \u001b[39m\u001b[38;5;124m'\u001b[39m, min_mean)\n",
      "File \u001b[0;32m~/mambaforge/envs/scnb-pipeline-R4.2/lib/python3.11/site-packages/scipy/sparse/_base.py:686\u001b[0m, in \u001b[0;36mspmatrix.__truediv__\u001b[0;34m(self, other)\u001b[0m\n\u001b[1;32m    685\u001b[0m \u001b[38;5;28;01mdef\u001b[39;00m \u001b[38;5;21m__truediv__\u001b[39m(\u001b[38;5;28mself\u001b[39m, other):\n\u001b[0;32m--> 686\u001b[0m     \u001b[38;5;28;01mreturn\u001b[39;00m \u001b[38;5;28;43mself\u001b[39;49m\u001b[38;5;241;43m.\u001b[39;49m\u001b[43m_divide\u001b[49m\u001b[43m(\u001b[49m\u001b[43mother\u001b[49m\u001b[43m,\u001b[49m\u001b[43m \u001b[49m\u001b[43mtrue_divide\u001b[49m\u001b[38;5;241;43m=\u001b[39;49m\u001b[38;5;28;43;01mTrue\u001b[39;49;00m\u001b[43m)\u001b[49m\n",
      "File \u001b[0;32m~/mambaforge/envs/scnb-pipeline-R4.2/lib/python3.11/site-packages/scipy/sparse/_base.py:665\u001b[0m, in \u001b[0;36mspmatrix._divide\u001b[0;34m(self, other, true_divide, rdivide)\u001b[0m\n\u001b[1;32m    663\u001b[0m \u001b[38;5;28;01mif\u001b[39;00m \u001b[38;5;129;01mnot\u001b[39;00m rdivide:\n\u001b[1;32m    664\u001b[0m     \u001b[38;5;28;01mif\u001b[39;00m true_divide:\n\u001b[0;32m--> 665\u001b[0m         \u001b[38;5;28;01mreturn\u001b[39;00m \u001b[43mnp\u001b[49m\u001b[38;5;241;43m.\u001b[39;49m\u001b[43mtrue_divide\u001b[49m\u001b[43m(\u001b[49m\u001b[38;5;28;43mself\u001b[39;49m\u001b[38;5;241;43m.\u001b[39;49m\u001b[43mtodense\u001b[49m\u001b[43m(\u001b[49m\u001b[43m)\u001b[49m\u001b[43m,\u001b[49m\u001b[43m \u001b[49m\u001b[43mother\u001b[49m\u001b[43m)\u001b[49m\n\u001b[1;32m    666\u001b[0m     \u001b[38;5;28;01melse\u001b[39;00m:\n\u001b[1;32m    667\u001b[0m         \u001b[38;5;28;01mreturn\u001b[39;00m np\u001b[38;5;241m.\u001b[39mdivide(\u001b[38;5;28mself\u001b[39m\u001b[38;5;241m.\u001b[39mtodense(), other)\n",
      "\u001b[0;31mValueError\u001b[0m: operands could not be broadcast together with shapes (32738,2700) (2700,1) "
     ]
    }
   ],
   "source": [
    "import scranPY\n",
    "scranPY.compute_sum_factors(adata, clusters='norm_groups', normalize_counts=True)"
   ]
  },
  {
   "cell_type": "code",
   "execution_count": null,
   "id": "9c5610ca",
   "metadata": {},
   "outputs": [],
   "source": []
  }
 ],
 "metadata": {
  "kernelspec": {
   "display_name": "Python 3 (ipykernel)",
   "language": "python",
   "name": "python3"
  },
  "language_info": {
   "codemirror_mode": {
    "name": "ipython",
    "version": 3
   },
   "file_extension": ".py",
   "mimetype": "text/x-python",
   "name": "python",
   "nbconvert_exporter": "python",
   "pygments_lexer": "ipython3",
   "version": "3.11.4"
  }
 },
 "nbformat": 4,
 "nbformat_minor": 5
}
