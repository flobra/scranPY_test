{
 "cells": [
  {
   "cell_type": "code",
   "execution_count": 1,
   "id": "44a44360",
   "metadata": {
    "scrolled": false
   },
   "outputs": [
    {
     "name": "stdout",
     "output_type": "stream",
     "text": [
      "-----\n",
      "anndata     0.9.1\n",
      "scanpy      1.9.3\n",
      "-----\n",
      "PIL                 9.5.0\n",
      "anndata2ri          1.1\n",
      "anyio               NA\n",
      "argcomplete         NA\n",
      "arrow               1.2.3\n",
      "asttokens           NA\n",
      "attr                23.1.0\n",
      "babel               2.12.1\n",
      "backcall            0.2.0\n",
      "brotli              NA\n",
      "certifi             2023.05.07\n",
      "cffi                1.15.1\n",
      "charset_normalizer  3.1.0\n",
      "colorama            0.4.6\n",
      "comm                0.1.3\n",
      "cycler              0.10.0\n",
      "cython_runtime      NA\n",
      "dateutil            2.8.2\n",
      "debugpy             1.6.7\n",
      "decorator           5.1.1\n",
      "defusedxml          0.7.1\n",
      "executing           1.2.0\n",
      "fastjsonschema      NA\n",
      "fqdn                NA\n",
      "gmpy2               2.1.2\n",
      "google              NA\n",
      "h5py                3.9.0\n",
      "idna                3.4\n",
      "igraph              0.10.4\n",
      "ipykernel           6.23.2\n",
      "ipython_genutils    0.2.0\n",
      "isoduration         NA\n",
      "jedi                0.18.2\n",
      "jinja2              3.1.2\n",
      "joblib              1.2.0\n",
      "json5               NA\n",
      "jsonpointer         2.0\n",
      "jsonschema          4.17.3\n",
      "jupyter_events      0.6.3\n",
      "jupyter_server      2.6.0\n",
      "jupyterlab_server   2.23.0\n",
      "kiwisolver          1.4.4\n",
      "leidenalg           0.9.1\n",
      "llvmlite            0.40.0\n",
      "markupsafe          2.1.3\n",
      "matplotlib          3.7.1\n",
      "matplotlib_inline   0.1.6\n",
      "mpl_toolkits        NA\n",
      "mpmath              1.3.0\n",
      "natsort             8.4.0\n",
      "nbformat            5.9.0\n",
      "numba               0.57.0\n",
      "numpy               1.24.3\n",
      "opt_einsum          v3.3.0\n",
      "overrides           NA\n",
      "packaging           23.1\n",
      "pandas              2.0.2\n",
      "parso               0.8.3\n",
      "pexpect             4.8.0\n",
      "pickleshare         0.7.5\n",
      "pkg_resources       NA\n",
      "platformdirs        3.6.0\n",
      "prometheus_client   NA\n",
      "prompt_toolkit      3.0.38\n",
      "psutil              5.9.5\n",
      "ptyprocess          0.7.0\n",
      "pure_eval           0.2.2\n",
      "pvectorc            NA\n",
      "pydev_ipython       NA\n",
      "pydevconsole        NA\n",
      "pydevd              2.9.5\n",
      "pydevd_file_utils   NA\n",
      "pydevd_plugins      NA\n",
      "pydevd_tracing      NA\n",
      "pygments            2.15.1\n",
      "pyparsing           3.1.0\n",
      "pyrsistent          NA\n",
      "pythonjsonlogger    NA\n",
      "pytz                2023.3\n",
      "requests            2.31.0\n",
      "rfc3339_validator   0.1.4\n",
      "rfc3986_validator   0.1.1\n",
      "rpy2                3.5.11\n",
      "scipy               1.10.1\n",
      "send2trash          NA\n",
      "session_info        1.0.0\n",
      "setuptools          68.0.0\n",
      "setuptools_scm      NA\n",
      "six                 1.16.0\n",
      "sklearn             1.2.2\n",
      "sniffio             1.3.0\n",
      "socks               1.7.1\n",
      "stack_data          0.6.2\n",
      "sympy               1.12\n",
      "texttable           1.6.7\n",
      "threadpoolctl       3.1.0\n",
      "torch               2.0.0\n",
      "tornado             6.3.2\n",
      "tqdm                4.65.0\n",
      "traitlets           5.9.0\n",
      "typing_extensions   NA\n",
      "tzlocal             NA\n",
      "uri_template        NA\n",
      "urllib3             1.26.15\n",
      "wcwidth             0.2.6\n",
      "webcolors           1.13\n",
      "websocket           1.6.0\n",
      "yaml                5.4.1\n",
      "zmq                 25.1.0\n",
      "-----\n",
      "IPython             8.14.0\n",
      "jupyter_client      8.2.0\n",
      "jupyter_core        5.3.1\n",
      "jupyterlab          4.0.2\n",
      "notebook            6.5.4\n",
      "-----\n",
      "Python 3.11.4 | packaged by conda-forge | (main, Jun 10 2023, 18:08:17) [GCC 12.2.0]\n",
      "Linux-5.19.0-46-generic-x86_64-with-glibc2.35\n",
      "-----\n",
      "Session information updated at 2023-07-24 15:00\n"
     ]
    }
   ],
   "source": [
    "# import packages\n",
    "import scanpy as sc\n",
    "import numpy as np\n",
    "import scipy as sp\n",
    "import pandas as pd\n",
    "import matplotlib.pyplot as plt\n",
    "from matplotlib import rcParams\n",
    "import anndata\n",
    "#from gprofiler import gprofiler\n",
    "import rpy2.rinterface_lib.callbacks\n",
    "from rpy2.robjects import pandas2ri\n",
    "import anndata2ri\n",
    "from scipy.spatial import distance\n",
    "import logging\n",
    "import warnings\n",
    "warnings.filterwarnings(\"ignore\")\n",
    "\n",
    "# For >= python 3.9, you need to run \"mp.set_start_method('spawn')\"\n",
    "# or multiprocessing will not function properly with ipython\n",
    "# Windows users may need to change 'spawn' to 'sys.platform'\n",
    "# Running this line in =< python 3.8 is fine but not necessary\n",
    "# Here I'm using python 3.8 but still running this line for completeness\n",
    "import multiprocessing as mp\n",
    "mp.set_start_method('spawn')\n",
    "\n",
    "# declare settings\n",
    "rpy2.rinterface_lib.callbacks.logger.setLevel(logging.ERROR)\n",
    "pandas2ri.activate()\n",
    "anndata2ri.activate()\n",
    "%load_ext rpy2.ipython\n",
    "\n",
    "# declare scanpy settings\n",
    "plt.rcParams['figure.figsize']=(7,7)\n",
    "sc.set_figure_params(dpi=150, dpi_save=300)\n",
    "sc.settings.verbosity = 0\n",
    "sc.logging.print_versions()"
   ]
  },
  {
   "cell_type": "code",
   "execution_count": 2,
   "id": "2a1d2975",
   "metadata": {},
   "outputs": [],
   "source": [
    "adata = sc.datasets.pbmc3k()"
   ]
  },
  {
   "cell_type": "code",
   "execution_count": 3,
   "id": "91ce7e4a",
   "metadata": {},
   "outputs": [
    {
     "data": {
      "text/plain": [
       "AnnData object with n_obs × n_vars = 2700 × 32738\n",
       "    var: 'gene_ids'"
      ]
     },
     "execution_count": 3,
     "metadata": {},
     "output_type": "execute_result"
    }
   ],
   "source": [
    "adata"
   ]
  },
  {
   "cell_type": "code",
   "execution_count": 4,
   "id": "278126de",
   "metadata": {},
   "outputs": [
    {
     "data": {
      "text/plain": [
       "array([  0.,   1.,   2.,   3.,   4.,   5.,   6.,   7.,   8.,   9.,  10.,\n",
       "        11.,  12.,  13.,  14.,  15.,  16.,  17.,  18.,  19.,  20.,  21.,\n",
       "        22.,  23.,  24.,  25.,  26.,  27.,  28.,  29.,  30.,  31.,  32.,\n",
       "        33.,  34.,  35.,  36.,  37.,  38.,  39.,  40.,  41.,  42.,  43.,\n",
       "        44.,  45.,  46.,  47.,  48.,  49.,  50.,  51.,  52.,  53.,  54.,\n",
       "        55.,  56.,  57.,  58.,  59.,  60.,  61.,  62.,  63.,  64.,  65.,\n",
       "        66.,  67.,  68.,  69.,  70.,  71.,  72.,  73.,  74.,  75.,  76.,\n",
       "        77.,  78.,  79.,  80.,  81.,  82.,  83.,  84.,  85.,  86.,  87.,\n",
       "        88.,  89.,  90.,  91.,  92.,  93.,  94.,  95.,  96.,  97.,  98.,\n",
       "        99., 100., 101., 102., 103., 104., 105., 106., 107., 108., 109.,\n",
       "       110., 111., 112., 113., 114., 115., 116., 117., 118., 119., 120.,\n",
       "       121., 122., 123., 124., 125., 126., 127., 128., 129., 130., 131.,\n",
       "       132., 133., 134., 135., 136., 137., 138., 139., 140., 141., 142.,\n",
       "       143., 144., 145., 146., 147., 148., 149., 150., 151., 152., 153.,\n",
       "       154., 155., 156., 157., 158., 159., 160., 161., 162., 163., 164.,\n",
       "       165., 166., 167., 168., 169., 170., 171., 172., 173., 174., 175.,\n",
       "       176., 177., 178., 179., 180., 181., 182., 183., 184., 185., 186.,\n",
       "       187., 188., 189., 190., 191., 192., 193., 194., 195., 196., 197.,\n",
       "       198., 199., 204., 205., 206., 207., 211., 213., 214., 216., 217.,\n",
       "       218., 219., 220., 222., 223., 224., 225., 228., 229., 231., 233.,\n",
       "       235., 237., 238., 240., 241., 242., 248., 250., 252., 258., 267.,\n",
       "       269., 281., 282., 309., 365., 384., 391., 419.], dtype=float32)"
      ]
     },
     "execution_count": 4,
     "metadata": {},
     "output_type": "execute_result"
    }
   ],
   "source": [
    "# Adata object contains raw counts\n",
    "np.unique(adata.X.A.flatten())"
   ]
  },
  {
   "cell_type": "code",
   "execution_count": 5,
   "id": "c99347ff",
   "metadata": {},
   "outputs": [
    {
     "name": "stdout",
     "output_type": "stream",
     "text": [
      "Normalizing...\n",
      "PCA...\n",
      "Neighbors...\n",
      "Clustering...\n"
     ]
    }
   ],
   "source": [
    "#Perform a clustering for scran normalization in clusters\n",
    "adata_pp = adata.copy()\n",
    "print('Normalizing...')\n",
    "sc.pp.normalize_per_cell(adata_pp, counts_per_cell_after=1e5)\n",
    "sc.pp.log1p(adata_pp)\n",
    "print('PCA...')\n",
    "sc.pp.pca(adata_pp, n_comps=15)\n",
    "print('Neighbors...')\n",
    "sc.pp.neighbors(adata_pp)\n",
    "print('Clustering...')\n",
    "sc.tl.leiden(adata_pp, key_added='groups', resolution=0.8)"
   ]
  },
  {
   "cell_type": "code",
   "execution_count": 6,
   "id": "f2c89736",
   "metadata": {},
   "outputs": [],
   "source": [
    "def merge_small_clusters(adata_pp, min_cluster_size):\n",
    "    \n",
    "    while not (all(clust_size >= min_cluster_size for clust_size in adata_pp.obs.groups.value_counts() if clust_size != 0)):\n",
    "    \n",
    "        c_counts = adata_pp.obs.groups.value_counts()\n",
    "        cluster_list = list(c_counts.keys())\n",
    "\n",
    "        merge_dict = {}\n",
    "\n",
    "        for c in cluster_list:\n",
    "\n",
    "            if c_counts[c] < min_cluster_size:\n",
    "\n",
    "                #find closets cluster\n",
    "                avg_distances = {}\n",
    "                k_clusts = [l for l in cluster_list if l!=c]\n",
    "                for k in k_clusts:\n",
    "                    c_cells = adata_pp[adata_pp.obs['groups']==c,:].obsm['X_pca']\n",
    "                    k_cells = adata_pp[adata_pp.obs['groups']==k,:].obsm['X_pca']\n",
    "                    dist_mat = distance.cdist(c_cells, k_cells, metric='cosine')\n",
    "                    mean_val = np.mean(dist_mat[np.triu_indices(n=len(c_cells), m=len(k_cells) , k = 1)])\n",
    "                    avg_distances[k] = mean_val\n",
    "\n",
    "                min_k = min(avg_distances, key=avg_distances.get)\n",
    "                merge_dict[c]=min_k\n",
    "\n",
    "        for c in list(merge_dict.keys()):\n",
    "            adata_pp.obs.loc[adata_pp.obs['groups']==c,'groups'] = merge_dict[c]\n",
    "        \n",
    "    # reset categories\n",
    "    adata_pp.obs['groups'] = adata_pp.obs['groups'].astype('str').astype('category')\n",
    "    \n",
    "    return adata_pp"
   ]
  },
  {
   "cell_type": "code",
   "execution_count": 7,
   "id": "56794e77",
   "metadata": {},
   "outputs": [
    {
     "data": {
      "text/plain": [
       "AnnData object with n_obs × n_vars = 2700 × 32738\n",
       "    obs: 'n_counts', 'groups'\n",
       "    var: 'gene_ids'\n",
       "    uns: 'log1p', 'pca', 'neighbors', 'leiden'\n",
       "    obsm: 'X_pca'\n",
       "    varm: 'PCs'\n",
       "    obsp: 'distances', 'connectivities'"
      ]
     },
     "execution_count": 7,
     "metadata": {},
     "output_type": "execute_result"
    }
   ],
   "source": [
    "merge_small_clusters(adata_pp, 100)"
   ]
  },
  {
   "cell_type": "code",
   "execution_count": 8,
   "id": "26ad15a5",
   "metadata": {},
   "outputs": [
    {
     "data": {
      "text/plain": [
       "norm_groups\n",
       "0    501\n",
       "1    484\n",
       "2    372\n",
       "3    334\n",
       "4    301\n",
       "6    236\n",
       "5    196\n",
       "7    154\n",
       "8    122\n",
       "Name: count, dtype: int64"
      ]
     },
     "execution_count": 8,
     "metadata": {},
     "output_type": "execute_result"
    }
   ],
   "source": [
    "#Preprocess variables for scran normalization\n",
    "input_groups = adata_pp.obs['groups']\n",
    "adata.obs['norm_groups'] = input_groups\n",
    "adata.obs['norm_groups'].value_counts()"
   ]
  },
  {
   "cell_type": "code",
   "execution_count": 9,
   "id": "c5034177",
   "metadata": {},
   "outputs": [
    {
     "data": {
      "text/plain": [
       "AnnData object with n_obs × n_vars = 2700 × 32738\n",
       "    obs: 'norm_groups'\n",
       "    var: 'gene_ids'"
      ]
     },
     "execution_count": 9,
     "metadata": {},
     "output_type": "execute_result"
    }
   ],
   "source": [
    "adata"
   ]
  },
  {
   "cell_type": "code",
   "execution_count": 10,
   "id": "3d32dc1b",
   "metadata": {},
   "outputs": [
    {
     "name": "stdout",
     "output_type": "stream",
     "text": [
      "Current smallest cluster =  122  cells.\n",
      "Using max_size =  3000 , clusters have been split into  9  clusters.\n"
     ]
    },
    {
     "ename": "ValueError",
     "evalue": "operands could not be broadcast together with shapes (32738,2700) (2700,1) ",
     "output_type": "error",
     "traceback": [
      "\u001b[0;31m---------------------------------------------------------------------------\u001b[0m",
      "\u001b[0;31mValueError\u001b[0m                                Traceback (most recent call last)",
      "Cell \u001b[0;32mIn[10], line 2\u001b[0m\n\u001b[1;32m      1\u001b[0m \u001b[38;5;28;01mimport\u001b[39;00m \u001b[38;5;21;01mscranPY\u001b[39;00m\n\u001b[0;32m----> 2\u001b[0m \u001b[43mscranPY\u001b[49m\u001b[38;5;241;43m.\u001b[39;49m\u001b[43mcompute_sum_factors\u001b[49m\u001b[43m(\u001b[49m\u001b[43madata\u001b[49m\u001b[43m,\u001b[49m\u001b[43m \u001b[49m\u001b[43mclusters\u001b[49m\u001b[38;5;241;43m=\u001b[39;49m\u001b[38;5;124;43m'\u001b[39;49m\u001b[38;5;124;43mnorm_groups\u001b[39;49m\u001b[38;5;124;43m'\u001b[39;49m\u001b[43m,\u001b[49m\u001b[43m \u001b[49m\u001b[43mparallelize\u001b[49m\u001b[38;5;241;43m=\u001b[39;49m\u001b[38;5;28;43;01mTrue\u001b[39;49;00m\u001b[43m,\u001b[49m\u001b[43m \u001b[49m\u001b[43malgorithm\u001b[49m\u001b[38;5;241;43m=\u001b[39;49m\u001b[38;5;124;43m'\u001b[39;49m\u001b[38;5;124;43mCVXPY\u001b[39;49m\u001b[38;5;124;43m'\u001b[39;49m\u001b[43m,\u001b[49m\u001b[43m \u001b[49m\u001b[43mmax_size\u001b[49m\u001b[38;5;241;43m=\u001b[39;49m\u001b[38;5;241;43m3000\u001b[39;49m\u001b[43m,\u001b[49m\u001b[43m \u001b[49m\u001b[43mplotting\u001b[49m\u001b[38;5;241;43m=\u001b[39;49m\u001b[38;5;28;43;01mTrue\u001b[39;49;00m\u001b[43m,\u001b[49m\n\u001b[1;32m      3\u001b[0m \u001b[43m    \u001b[49m\u001b[43mlower_bound\u001b[49m\u001b[38;5;241;43m=\u001b[39;49m\u001b[38;5;241;43m0.4\u001b[39;49m\u001b[43m,\u001b[49m\u001b[43m \u001b[49m\u001b[43mnormalize_counts\u001b[49m\u001b[38;5;241;43m=\u001b[39;49m\u001b[38;5;28;43;01mFalse\u001b[39;49;00m\u001b[43m)\u001b[49m\n",
      "File \u001b[0;32m~/mambaforge/envs/scnb-pipeline-R4.2/lib/python3.11/site-packages/scranPY/main.py:250\u001b[0m, in \u001b[0;36mcompute_sum_factors\u001b[0;34m(adata, sizes, clusters, min_mean, max_size, parallelize, algorithm, stopwatch, plotting, lower_bound, normalize_counts, log1p, layer, save_plots_dir)\u001b[0m\n\u001b[1;32m    248\u001b[0m lib_sizes \u001b[38;5;241m=\u001b[39m np\u001b[38;5;241m.\u001b[39msum(adata\u001b[38;5;241m.\u001b[39mX, axis\u001b[38;5;241m=\u001b[39m\u001b[38;5;241m1\u001b[39m) \u001b[38;5;66;03m##3\u001b[39;00m\n\u001b[1;32m    249\u001b[0m lib_sizes \u001b[38;5;241m=\u001b[39m lib_sizes \u001b[38;5;241m/\u001b[39m np\u001b[38;5;241m.\u001b[39mmean(lib_sizes) \n\u001b[0;32m--> 250\u001b[0m exprs \u001b[38;5;241m=\u001b[39m (\u001b[43madata\u001b[49m\u001b[38;5;241;43m.\u001b[39;49m\u001b[43mX\u001b[49m\u001b[38;5;241;43m.\u001b[39;49m\u001b[43mT\u001b[49m\u001b[43m \u001b[49m\u001b[38;5;241;43m/\u001b[39;49m\u001b[43m \u001b[49m\u001b[43mlib_sizes\u001b[49m)\u001b[38;5;241m.\u001b[39mT \u001b[38;5;66;03m##4\u001b[39;00m\n\u001b[1;32m    251\u001b[0m min_mean \u001b[38;5;241m=\u001b[39m guess_min_mean(adata\u001b[38;5;241m.\u001b[39mX, min_mean\u001b[38;5;241m=\u001b[39mmin_mean) \u001b[38;5;66;03m##5\u001b[39;00m\n\u001b[1;32m    252\u001b[0m \u001b[38;5;28mprint\u001b[39m(\u001b[38;5;124m'\u001b[39m\u001b[38;5;124mmin_mean = \u001b[39m\u001b[38;5;124m'\u001b[39m, min_mean)\n",
      "File \u001b[0;32m~/mambaforge/envs/scnb-pipeline-R4.2/lib/python3.11/site-packages/scipy/sparse/_base.py:686\u001b[0m, in \u001b[0;36mspmatrix.__truediv__\u001b[0;34m(self, other)\u001b[0m\n\u001b[1;32m    685\u001b[0m \u001b[38;5;28;01mdef\u001b[39;00m \u001b[38;5;21m__truediv__\u001b[39m(\u001b[38;5;28mself\u001b[39m, other):\n\u001b[0;32m--> 686\u001b[0m     \u001b[38;5;28;01mreturn\u001b[39;00m \u001b[38;5;28;43mself\u001b[39;49m\u001b[38;5;241;43m.\u001b[39;49m\u001b[43m_divide\u001b[49m\u001b[43m(\u001b[49m\u001b[43mother\u001b[49m\u001b[43m,\u001b[49m\u001b[43m \u001b[49m\u001b[43mtrue_divide\u001b[49m\u001b[38;5;241;43m=\u001b[39;49m\u001b[38;5;28;43;01mTrue\u001b[39;49;00m\u001b[43m)\u001b[49m\n",
      "File \u001b[0;32m~/mambaforge/envs/scnb-pipeline-R4.2/lib/python3.11/site-packages/scipy/sparse/_base.py:665\u001b[0m, in \u001b[0;36mspmatrix._divide\u001b[0;34m(self, other, true_divide, rdivide)\u001b[0m\n\u001b[1;32m    663\u001b[0m \u001b[38;5;28;01mif\u001b[39;00m \u001b[38;5;129;01mnot\u001b[39;00m rdivide:\n\u001b[1;32m    664\u001b[0m     \u001b[38;5;28;01mif\u001b[39;00m true_divide:\n\u001b[0;32m--> 665\u001b[0m         \u001b[38;5;28;01mreturn\u001b[39;00m \u001b[43mnp\u001b[49m\u001b[38;5;241;43m.\u001b[39;49m\u001b[43mtrue_divide\u001b[49m\u001b[43m(\u001b[49m\u001b[38;5;28;43mself\u001b[39;49m\u001b[38;5;241;43m.\u001b[39;49m\u001b[43mtodense\u001b[49m\u001b[43m(\u001b[49m\u001b[43m)\u001b[49m\u001b[43m,\u001b[49m\u001b[43m \u001b[49m\u001b[43mother\u001b[49m\u001b[43m)\u001b[49m\n\u001b[1;32m    666\u001b[0m     \u001b[38;5;28;01melse\u001b[39;00m:\n\u001b[1;32m    667\u001b[0m         \u001b[38;5;28;01mreturn\u001b[39;00m np\u001b[38;5;241m.\u001b[39mdivide(\u001b[38;5;28mself\u001b[39m\u001b[38;5;241m.\u001b[39mtodense(), other)\n",
      "\u001b[0;31mValueError\u001b[0m: operands could not be broadcast together with shapes (32738,2700) (2700,1) "
     ]
    }
   ],
   "source": [
    "import scranPY\n",
    "scranPY.compute_sum_factors(adata, clusters='norm_groups', parallelize=True, algorithm='CVXPY', max_size=3000, plotting=True,\n",
    "    lower_bound=0.4, normalize_counts=False)\n"
   ]
  }
 ],
 "metadata": {
  "kernelspec": {
   "display_name": "Python 3 (ipykernel)",
   "language": "python",
   "name": "python3"
  },
  "language_info": {
   "codemirror_mode": {
    "name": "ipython",
    "version": 3
   },
   "file_extension": ".py",
   "mimetype": "text/x-python",
   "name": "python",
   "nbconvert_exporter": "python",
   "pygments_lexer": "ipython3",
   "version": "3.11.4"
  }
 },
 "nbformat": 4,
 "nbformat_minor": 5
}
