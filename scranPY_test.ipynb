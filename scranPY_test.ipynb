{
 "cells": [
  {
   "cell_type": "code",
   "execution_count": null,
   "id": "44a44360",
   "metadata": {},
   "outputs": [],
   "source": [
    "import argparse\n",
    "import scanpy as sc\n",
    "import numpy as np\n",
    "import anndata\n",
    "\n",
    "import time\n",
    "import os\n",
    "\n",
    "from sklearn.cluster import KMeans\n",
    "\n",
    "import numpy as np\n",
    "import matplotlib.pyplot as plt\n",
    "from scipy.stats import pearsonr\n",
    "from scipy.sparse import csr_matrix, issparse\n",
    "\n",
    "import matplotlib.pyplot as plt\n",
    "import pandas as pd\n",
    "import numpy as np\n",
    "import seaborn as sns\n",
    "from scipy.stats import chi2\n",
    "from matplotlib.patches import Ellipse\n",
    "\n",
    "import matplotlib.pyplot as plt\n",
    "import pandas as pd\n",
    "from scipy.spatial import distance"
   ]
  },
  {
   "cell_type": "code",
   "execution_count": null,
   "id": "2a1d2975",
   "metadata": {},
   "outputs": [],
   "source": [
    "adata = sc.datasets.pbmc3k()"
   ]
  },
  {
   "cell_type": "code",
   "execution_count": null,
   "id": "91ce7e4a",
   "metadata": {},
   "outputs": [],
   "source": [
    "adata"
   ]
  },
  {
   "cell_type": "code",
   "execution_count": null,
   "id": "c99347ff",
   "metadata": {},
   "outputs": [],
   "source": [
    "#Perform a clustering for scran normalization in clusters\n",
    "adata_pp = adata.copy()\n",
    "print('Normalizing...')\n",
    "sc.pp.normalize_per_cell(adata_pp, counts_per_cell_after=1e5)\n",
    "sc.pp.log1p(adata_pp)\n",
    "print('PCA...')\n",
    "sc.pp.pca(adata_pp, n_comps=15)\n",
    "print('Neighbors...')\n",
    "sc.pp.neighbors(adata_pp)\n",
    "print('Clustering...')\n",
    "sc.tl.leiden(adata_pp, key_added='groups', resolution=0.8)"
   ]
  },
  {
   "cell_type": "code",
   "execution_count": null,
   "id": "f2c89736",
   "metadata": {},
   "outputs": [],
   "source": [
    "def merge_small_clusters(adata_pp, min_cluster_size):\n",
    "    \n",
    "    while not (all(clust_size >= min_cluster_size for clust_size in adata_pp.obs.groups.value_counts() if clust_size != 0)):\n",
    "    \n",
    "        c_counts = adata_pp.obs.groups.value_counts()\n",
    "        cluster_list = list(c_counts.keys())\n",
    "\n",
    "        merge_dict = {}\n",
    "\n",
    "        for c in cluster_list:\n",
    "\n",
    "            if c_counts[c] < min_cluster_size:\n",
    "\n",
    "                #find closets cluster\n",
    "                avg_distances = {}\n",
    "                k_clusts = [l for l in cluster_list if l!=c]\n",
    "                for k in k_clusts:\n",
    "                    c_cells = adata_pp[adata_pp.obs['groups']==c,:].obsm['X_pca']\n",
    "                    k_cells = adata_pp[adata_pp.obs['groups']==k,:].obsm['X_pca']\n",
    "                    dist_mat = distance.cdist(c_cells, k_cells, metric='cosine')\n",
    "                    mean_val = np.mean(dist_mat[np.triu_indices(n=len(c_cells), m=len(k_cells) , k = 1)])\n",
    "                    avg_distances[k] = mean_val\n",
    "\n",
    "                min_k = min(avg_distances, key=avg_distances.get)\n",
    "                merge_dict[c]=min_k\n",
    "\n",
    "        for c in list(merge_dict.keys()):\n",
    "            adata_pp.obs.loc[adata_pp.obs['groups']==c,'groups'] = merge_dict[c]\n",
    "        \n",
    "    # reset categories\n",
    "    adata_pp.obs['groups'] = adata_pp.obs['groups'].astype('str').astype('category')\n",
    "    \n",
    "    return adata_pp"
   ]
  },
  {
   "cell_type": "code",
   "execution_count": null,
   "id": "56794e77",
   "metadata": {},
   "outputs": [],
   "source": [
    "merge_small_clusters(adata_pp, 100)"
   ]
  },
  {
   "cell_type": "code",
   "execution_count": null,
   "id": "26ad15a5",
   "metadata": {},
   "outputs": [],
   "source": [
    "#Preprocess variables for scran normalization\n",
    "input_groups = adata_pp.obs['groups']\n",
    "adata.obs['norm_groups'] = input_groups\n",
    "adata.obs['norm_groups'].value_counts()"
   ]
  },
  {
   "cell_type": "code",
   "execution_count": null,
   "id": "c5034177",
   "metadata": {},
   "outputs": [],
   "source": [
    "adata"
   ]
  },
  {
   "cell_type": "code",
   "execution_count": null,
   "id": "d6bc37b3",
   "metadata": {},
   "outputs": [],
   "source": [
    "import scranPY\n",
    "scranPY.compute_sum_factors(adata, clusters='norm_groups', normalize_counts=True)"
   ]
  },
  {
   "cell_type": "code",
   "execution_count": null,
   "id": "9c5610ca",
   "metadata": {},
   "outputs": [],
   "source": []
  }
 ],
 "metadata": {
  "kernelspec": {
   "display_name": "Python 3 (ipykernel)",
   "language": "python",
   "name": "python3"
  },
  "language_info": {
   "codemirror_mode": {
    "name": "ipython",
    "version": 3
   },
   "file_extension": ".py",
   "mimetype": "text/x-python",
   "name": "python",
   "nbconvert_exporter": "python",
   "pygments_lexer": "ipython3",
   "version": "3.11.4"
  }
 },
 "nbformat": 4,
 "nbformat_minor": 5
}
